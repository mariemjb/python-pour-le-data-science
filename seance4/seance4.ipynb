{
 "cells": [
  {
   "cell_type": "markdown",
   "metadata": {},
   "source": [
    "<b> DATETIME </b>"
   ]
  },
  {
   "cell_type": "code",
   "execution_count": 8,
   "metadata": {},
   "outputs": [],
   "source": [
    "date_naissance_s=input('Entrer une date :')"
   ]
  },
  {
   "cell_type": "code",
   "execution_count": 5,
   "metadata": {},
   "outputs": [],
   "source": [
    "#importer le type datetime a partir du module(bib) datetime\n",
    "from datetime import datetime"
   ]
  },
  {
   "cell_type": "code",
   "execution_count": 9,
   "metadata": {},
   "outputs": [],
   "source": [
    "date_naissance=datetime.strptime(date_naissance_s,'%d/%m/%Y %H:%M:%S')"
   ]
  },
  {
   "cell_type": "code",
   "execution_count": 10,
   "metadata": {},
   "outputs": [
    {
     "data": {
      "text/plain": [
       "datetime.datetime(2001, 10, 30, 1, 42, 30)"
      ]
     },
     "execution_count": 10,
     "metadata": {},
     "output_type": "execute_result"
    }
   ],
   "source": [
    "date_naissance"
   ]
  },
  {
   "cell_type": "code",
   "execution_count": 11,
   "metadata": {},
   "outputs": [
    {
     "data": {
      "text/plain": [
       "datetime.datetime(2000, 1, 13, 23, 1, 22)"
      ]
     },
     "execution_count": 11,
     "metadata": {},
     "output_type": "execute_result"
    }
   ],
   "source": [
    "#converti une datetime en chaine de cara\n",
    "date_naiss=datetime(2000,1,13,23,1,22)\n",
    "date_naiss"
   ]
  },
  {
   "cell_type": "code",
   "execution_count": 14,
   "metadata": {},
   "outputs": [
    {
     "data": {
      "text/plain": [
       "'Thu 13-Jan-00'"
      ]
     },
     "execution_count": 14,
     "metadata": {},
     "output_type": "execute_result"
    }
   ],
   "source": [
    "date_naiss.strftime('%A %d-%m-%y')\n",
    "#date_naiss.strftime('%a %d-%b-%y')"
   ]
  },
  {
   "cell_type": "markdown",
   "metadata": {},
   "source": [
    "<b>Arithemétique sur les dates</b>"
   ]
  },
  {
   "cell_type": "code",
   "execution_count": 21,
   "metadata": {},
   "outputs": [
    {
     "data": {
      "text/plain": [
       "datetime.timedelta(days=8805, seconds=53442, microseconds=677575)"
      ]
     },
     "execution_count": 21,
     "metadata": {},
     "output_type": "execute_result"
    }
   ],
   "source": [
    "duree=datetime.now()-date_naiss\n",
    "duree\n",
    "#timedelta"
   ]
  },
  {
   "cell_type": "code",
   "execution_count": 26,
   "metadata": {},
   "outputs": [
    {
     "data": {
      "text/plain": [
       "24"
      ]
     },
     "execution_count": 26,
     "metadata": {},
     "output_type": "execute_result"
    }
   ],
   "source": [
    "#age=int(duree.days/365.25)\n",
    "age=round(duree.days/365.25) # arrondissement\n",
    "age"
   ]
  },
  {
   "cell_type": "code",
   "execution_count": 27,
   "metadata": {},
   "outputs": [
    {
     "data": {
      "text/plain": [
       "24"
      ]
     },
     "execution_count": 27,
     "metadata": {},
     "output_type": "execute_result"
    }
   ],
   "source": [
    "t1=datetime.now()\n",
    "t2=date_naiss\n",
    "age=t1.year-t2.year\n",
    "age"
   ]
  },
  {
   "cell_type": "markdown",
   "metadata": {},
   "source": [
    "<b>les classes </b>"
   ]
  },
  {
   "cell_type": "code",
   "execution_count": 31,
   "metadata": {},
   "outputs": [],
   "source": [
    "#class Point:\n",
    " #pass # pour dire rien "
   ]
  },
  {
   "cell_type": "code",
   "execution_count": 32,
   "metadata": {},
   "outputs": [],
   "source": [
    "#p1=Point() #instance de la classe Point\n",
    "#appel de constructeur par defaut"
   ]
  },
  {
   "cell_type": "code",
   "execution_count": 92,
   "metadata": {},
   "outputs": [],
   "source": [
    "import math\n",
    "class Point:\n",
    "    #x=10 #attribut statique\n",
    "    def __init__(self,x,y):\n",
    "        self.x=x\n",
    "        self.y=y \n",
    "    def afficher(self):\n",
    "        print(\"Point\",self.x,self.y)\n",
    "    def __str__(self):\n",
    "        return \"Point:\"+str(self.x)+\",\"+str(self.y)\n",
    "    def decaler(self,P):\n",
    "        self.x=self.x+P.x\n",
    "        self.y =self.y+P.y\n",
    "    def distance(self,P):\n",
    "        dx=(self.x-P.x)\n",
    "        dy=(self.y-P.y)\n",
    "        d=(dx**2+dy**2)\n",
    "        d2=math.sqrt(d)\n",
    "        return d2\n",
    "        \n",
    "        "
   ]
  },
  {
   "cell_type": "markdown",
   "metadata": {},
   "source": []
  },
  {
   "cell_type": "code",
   "execution_count": 90,
   "metadata": {},
   "outputs": [
    {
     "name": "stdout",
     "output_type": "stream",
     "text": [
      "Point 11 7\n"
     ]
    }
   ],
   "source": [
    "#p4=Point(2,5)\n",
    "p1=Point(y=3,x=2)\n",
    "p2=Point(y=4,x=9)\n",
    "p1.decaler(p2)\n",
    "p1.afficher()"
   ]
  },
  {
   "cell_type": "code",
   "execution_count": 61,
   "metadata": {},
   "outputs": [],
   "source": [
    " # def __init__(self,x=0,y=0):\n",
    "        #self.x=x\n",
    "        #self.y=y "
   ]
  },
  {
   "cell_type": "code",
   "execution_count": null,
   "metadata": {},
   "outputs": [],
   "source": []
  },
  {
   "cell_type": "code",
   "execution_count": 89,
   "metadata": {},
   "outputs": [
    {
     "name": "stdout",
     "output_type": "stream",
     "text": [
      "Point 11 7\n"
     ]
    }
   ],
   "source": [
    "p1=Point(y=3,x=2)\n",
    "p2=Point(y=4,x=9)\n",
    "p1.decaler(p2)\n",
    "p1.afficher()\n",
    "#print(p1)#adresse memoire :reference "
   ]
  },
  {
   "cell_type": "code",
   "execution_count": 60,
   "metadata": {},
   "outputs": [
    {
     "data": {
      "text/plain": [
       "2"
      ]
     },
     "execution_count": 60,
     "metadata": {},
     "output_type": "execute_result"
    }
   ],
   "source": [
    "p1.x"
   ]
  },
  {
   "cell_type": "code",
   "execution_count": 74,
   "metadata": {},
   "outputs": [
    {
     "data": {
      "text/plain": [
       "<__main__.Point at 0x20207750ad0>"
      ]
     },
     "execution_count": 74,
     "metadata": {},
     "output_type": "execute_result"
    }
   ],
   "source": []
  },
  {
   "cell_type": "markdown",
   "metadata": {},
   "source": [
    "Modules"
   ]
  },
  {
   "cell_type": "markdown",
   "metadata": {},
   "source": [
    "Gestion des exceptions"
   ]
  },
  {
   "cell_type": "code",
   "execution_count": 1,
   "metadata": {},
   "outputs": [
    {
     "name": "stdout",
     "output_type": "stream",
     "text": [
      "0.5\n"
     ]
    }
   ],
   "source": [
    "n1=int(input('donner n1'))\n",
    "n2=int(input('donner n2'))\n",
    "q=n1/n2\n",
    "print(q)"
   ]
  },
  {
   "cell_type": "code",
   "execution_count": 2,
   "metadata": {},
   "outputs": [
    {
     "name": "stdout",
     "output_type": "stream",
     "text": [
      "vous avez commis une erreur!\n"
     ]
    }
   ],
   "source": [
    "#try :\n",
    "  # n1=int(input('donner n1'))\n",
    "   #n2=int(input('donner n2'))\n",
    "   #q=n1/n2\n",
    "   #print(q)\n",
    "#except:\n",
    "   # print(\"vous avez commis une erreur!\")"
   ]
  },
  {
   "cell_type": "code",
   "execution_count": 5,
   "metadata": {},
   "outputs": [
    {
     "name": "stdout",
     "output_type": "stream",
     "text": [
      "deuxieme nombre doit etre different de 0\n"
     ]
    }
   ],
   "source": [
    "try :\n",
    "   n1=int(input('donner n1'))\n",
    "   n2=int(input('donner n2'))\n",
    "   q=n1/n2\n",
    "   print(q)\n",
    "except ValueError:\n",
    "    print(\"vous devez entrer un nombre\")\n",
    "except ZeroDivisionError:\n",
    "    print(\"deuxieme nombre doit etre different de 0\")"
   ]
  },
  {
   "cell_type": "markdown",
   "metadata": {},
   "source": [
    "<b>NUMMPY</b>"
   ]
  },
  {
   "cell_type": "markdown",
   "metadata": {},
   "source": []
  }
 ],
 "metadata": {
  "kernelspec": {
   "display_name": "venv_python_data_science",
   "language": "python",
   "name": "python3"
  },
  "language_info": {
   "codemirror_mode": {
    "name": "ipython",
    "version": 3
   },
   "file_extension": ".py",
   "mimetype": "text/x-python",
   "name": "python",
   "nbconvert_exporter": "python",
   "pygments_lexer": "ipython3",
   "version": "3.11.0"
  }
 },
 "nbformat": 4,
 "nbformat_minor": 2
}
